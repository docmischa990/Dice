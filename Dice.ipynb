{
 "cells": [
  {
   "cell_type": "code",
   "execution_count": 15,
   "id": "bfe9c368-2384-46da-8d10-e4ad4b0b31cc",
   "metadata": {},
   "outputs": [
    {
     "name": "stdin",
     "output_type": "stream",
     "text": [
      "Roll the dice? (y/n):  y\n"
     ]
    },
    {
     "name": "stdout",
     "output_type": "stream",
     "text": [
      "(3, 4)\n"
     ]
    },
    {
     "name": "stdin",
     "output_type": "stream",
     "text": [
      "Roll the dice? (y/n):  y\n"
     ]
    },
    {
     "name": "stdout",
     "output_type": "stream",
     "text": [
      "(2, 1)\n"
     ]
    },
    {
     "name": "stdin",
     "output_type": "stream",
     "text": [
      "Roll the dice? (y/n):  \n"
     ]
    },
    {
     "name": "stdout",
     "output_type": "stream",
     "text": [
      "invalid choice!\n"
     ]
    },
    {
     "name": "stdin",
     "output_type": "stream",
     "text": [
      "Roll the dice? (y/n):  y\n"
     ]
    },
    {
     "name": "stdout",
     "output_type": "stream",
     "text": [
      "(6, 3)\n"
     ]
    },
    {
     "name": "stdin",
     "output_type": "stream",
     "text": [
      "Roll the dice? (y/n):  y\n"
     ]
    },
    {
     "name": "stdout",
     "output_type": "stream",
     "text": [
      "(1, 4)\n"
     ]
    },
    {
     "name": "stdin",
     "output_type": "stream",
     "text": [
      "Roll the dice? (y/n):  y\n"
     ]
    },
    {
     "name": "stdout",
     "output_type": "stream",
     "text": [
      "(1, 1)\n"
     ]
    },
    {
     "name": "stdin",
     "output_type": "stream",
     "text": [
      "Roll the dice? (y/n):  y\n"
     ]
    },
    {
     "name": "stdout",
     "output_type": "stream",
     "text": [
      "(3, 3)\n"
     ]
    },
    {
     "name": "stdin",
     "output_type": "stream",
     "text": [
      "Roll the dice? (y/n):  n\n"
     ]
    },
    {
     "name": "stdout",
     "output_type": "stream",
     "text": [
      "Thanks for playing quitter!\n"
     ]
    }
   ],
   "source": [
    "#Ask: Roll thee dice\n",
    "#If user enters y\n",
    "#Generate two random numbers\n",
    "#  print them\n",
    "#If user enters n\n",
    "#  Print thank you message\n",
    "#  Terminate\n",
    "#  Else\n",
    "#  Print invalid choice\n",
    "\n",
    "import random\n",
    "\n",
    "while True:\n",
    "    choice = input('Roll the dice? (y/n): ').lower() \n",
    "    if choice == 'y':\n",
    "        die1 = random.randint(1, 6)\n",
    "        die2 = random.randint(1, 6)\n",
    "        print(f'({die1}, {die2})')\n",
    "    elif choice == 'n':\n",
    "        print('Thanks for playing quitter!')\n",
    "        break\n",
    "    else:\n",
    "        print('invalid choice!')"
   ]
  },
  {
   "cell_type": "code",
   "execution_count": 31,
   "id": "6593217d-8ee2-4f46-a6ea-786718e0a812",
   "metadata": {},
   "outputs": [
    {
     "name": "stdin",
     "output_type": "stream",
     "text": [
      "Roll the dice? (y/n):  n\n"
     ]
    },
    {
     "name": "stdout",
     "output_type": "stream",
     "text": [
      "Thanks for playing! You rolled the dice 0 times.\n"
     ]
    }
   ],
   "source": [
    "# Part 2 : add a counter and give user option for how many dice to roll\n",
    "\n",
    "import random\n",
    "\n",
    "# Initialize the roll count\n",
    "roll_count = 0\n",
    "\n",
    "while True:\n",
    "    choice = input('Roll the dice? (y/n): ').lower()\n",
    "\n",
    "    if choice == 'y':\n",
    "        # Ask the user how many dice they want to roll (only allow 1 or 2 dice)\n",
    "        while True:\n",
    "            num_dice = int(input('How many dice would you like to roll? (1 or 2): '))\n",
    "            if num_dice == 1 or num_dice == 2:\n",
    "                break  # If they choose 1 or 2, proceed to roll\n",
    "            else:\n",
    "                print('Invalid choice! You can only roll 1 or 2 dice.')\n",
    "\n",
    "        # Roll the specified number of dice and store the results in a list\n",
    "        dice_rolls = []\n",
    "        for _ in range(num_dice):\n",
    "            die = random.randint(1, 6)\n",
    "            dice_rolls.append(die)\n",
    "\n",
    "        # Display all dice rolls\n",
    "        print(f'You rolled: {tuple(dice_rolls)}')  # Using tuple() for better display\n",
    "\n",
    "        # Increment the roll count after each roll\n",
    "        roll_count += 1\n",
    "\n",
    "    elif choice == 'n':\n",
    "        # Display the total number of rolls before ending the game\n",
    "        print(f'Thanks for playing! You rolled the dice {roll_count} times.')\n",
    "        break\n",
    "    else:\n",
    "        print('Invalid choice!')\n"
   ]
  },
  {
   "cell_type": "code",
   "execution_count": null,
   "id": "dae39aea-1c15-4342-a6ba-b1970577af67",
   "metadata": {},
   "outputs": [],
   "source": []
  }
 ],
 "metadata": {
  "kernelspec": {
   "display_name": "Python 3 (ipykernel)",
   "language": "python",
   "name": "python3"
  },
  "language_info": {
   "codemirror_mode": {
    "name": "ipython",
    "version": 3
   },
   "file_extension": ".py",
   "mimetype": "text/x-python",
   "name": "python",
   "nbconvert_exporter": "python",
   "pygments_lexer": "ipython3",
   "version": "3.12.4"
  }
 },
 "nbformat": 4,
 "nbformat_minor": 5
}
